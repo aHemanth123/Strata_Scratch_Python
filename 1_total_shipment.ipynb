{
 "cells": [
  {
   "cell_type": "markdown",
   "id": "69682985",
   "metadata": {},
   "source": [
    "Total Shipment Weight\n",
    "\n",
    "Last Updated: July 2025\n",
    "Easy\n",
    "ID 2058\n",
    "76\n",
    "\n",
    "Amazon\n",
    "\n",
    "Calculate the total weight for each shipment and add it as a new column. Your output needs to have all the existing rows and columns in addition to the  new column that shows the total weight for each shipment. One shipment can have multiple rows."
   ]
  },
  {
   "cell_type": "markdown",
   "id": "2554bf87",
   "metadata": {},
   "source": [
    "# python"
   ]
  },
  {
   "cell_type": "code",
   "execution_count": 18,
   "id": "77fae991",
   "metadata": {},
   "outputs": [],
   "source": [
    "shipments = [\n",
    "    [101, 1, 10, \"2021-08-30\"],\n",
    "    [101, 2, 20, \"2021-09-01\"],\n",
    "    [101, 3, 10, \"2021-09-05\"],\n",
    "    [102, 1, 50, \"2021-09-02\"],\n",
    "    [103, 1, 25, \"2021-09-01\"],\n",
    "    [103, 2, 30, \"2021-09-02\"],\n",
    "    [104, 1, 30, \"2021-08-25\"],\n",
    "    [104, 2, 10, \"2021-08-26\"],\n",
    "    [105, 1, 20, \"2021-09-02\"]\n",
    "]\n",
    "\n",
    "columns = [\"shipment_id\", \"sub_id\", \"weight\", \"shipment_date\"]\n"
   ]
  },
  {
   "cell_type": "code",
   "execution_count": 19,
   "id": "dd24f1ea",
   "metadata": {},
   "outputs": [
    {
     "name": "stdout",
     "output_type": "stream",
     "text": [
      "   shipment_id  sub_id  weight shipment_date\n",
      "0          101       1      10    2021-08-30\n",
      "1          101       2      20    2021-09-01\n",
      "2          101       3      10    2021-09-05\n",
      "3          102       1      50    2021-09-02\n",
      "4          103       1      25    2021-09-01\n",
      "5          103       2      30    2021-09-02\n",
      "6          104       1      30    2021-08-25\n",
      "7          104       2      10    2021-08-26\n",
      "8          105       1      20    2021-09-02\n"
     ]
    }
   ],
   "source": [
    "import pandas as pd\n",
    "\n",
    "df = pd.DataFrame(shipments ,columns= columns)\n",
    "print(df)\n"
   ]
  },
  {
   "cell_type": "code",
   "execution_count": 22,
   "id": "4ef0f6b5",
   "metadata": {},
   "outputs": [
    {
     "name": "stdout",
     "output_type": "stream",
     "text": [
      "   shipment_id  sub_id  weight shipment_date  totalweight\n",
      "0          101       1      10    2021-08-30           40\n",
      "1          101       2      20    2021-09-01           40\n",
      "2          101       3      10    2021-09-05           40\n",
      "3          102       1      50    2021-09-02           50\n",
      "4          103       1      25    2021-09-01           55\n",
      "5          103       2      30    2021-09-02           55\n",
      "6          104       1      30    2021-08-25           40\n",
      "7          104       2      10    2021-08-26           40\n",
      "8          105       1      20    2021-09-02           20\n"
     ]
    }
   ],
   "source": [
    "# df['totalweight'] = df.groupby(df.shi)[df.weight].transform(\"sum\")\n",
    "df['totalweight'] = df.groupby(df.shipment_id)[\"weight\"].transform(\"sum\")\n",
    "print(df)"
   ]
  }
 ],
 "metadata": {
  "kernelspec": {
   "display_name": "3.11.6",
   "language": "python",
   "name": "python3"
  },
  "language_info": {
   "codemirror_mode": {
    "name": "ipython",
    "version": 3
   },
   "file_extension": ".py",
   "mimetype": "text/x-python",
   "name": "python",
   "nbconvert_exporter": "python",
   "pygments_lexer": "ipython3",
   "version": "3.11.6"
  }
 },
 "nbformat": 4,
 "nbformat_minor": 5
}
